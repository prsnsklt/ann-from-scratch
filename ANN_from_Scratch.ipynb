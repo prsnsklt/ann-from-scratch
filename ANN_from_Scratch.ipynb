{
  "nbformat": 4,
  "nbformat_minor": 0,
  "metadata": {
    "colab": {
      "name": "ANN from Scratch (PPL).ipynb",
      "provenance": [],
      "collapsed_sections": []
    },
    "kernelspec": {
      "name": "python3",
      "display_name": "Python 3"
    }
  },
  "cells": [
    {
      "cell_type": "markdown",
      "metadata": {
        "id": "P8Gxq-ruD0R6",
        "colab_type": "text"
      },
      "source": [
        "# 1. Preparation "
      ]
    },
    {
      "cell_type": "code",
      "metadata": {
        "id": "pQp0GJau-vL-",
        "colab_type": "code",
        "colab": {}
      },
      "source": [
        "import numpy as np\n",
        "import pandas as pd\n",
        "import matplotlib.pyplot as plt\n",
        "import seaborn as sns\n",
        "\n",
        "%matplotlib inline"
      ],
      "execution_count": 0,
      "outputs": []
    },
    {
      "cell_type": "code",
      "metadata": {
        "id": "k8u98l5oDnIf",
        "colab_type": "code",
        "colab": {}
      },
      "source": [
        "def plot_points(X, y):\n",
        "    admitted = X[np.argwhere(y==1)]\n",
        "    rejected = X[np.argwhere(y==0)]\n",
        "    plt.scatter([s[0][0] for s in rejected], [s[0][1] for s in rejected], s = 25, color = 'blue', edgecolor = 'k')\n",
        "    plt.scatter([s[0][0] for s in admitted], [s[0][1] for s in admitted], s = 25, color = 'red', edgecolor = 'k')\n",
        "\n",
        "def display(m, b, color='g--'):\n",
        "    plt.xlim(-0.05,1.05)\n",
        "    plt.ylim(-0.05,1.05)\n",
        "    x = np.arange(-10, 10, 0.1)\n",
        "    plt.plot(x, m*x+b, color)"
      ],
      "execution_count": 0,
      "outputs": []
    },
    {
      "cell_type": "markdown",
      "metadata": {
        "id": "ephibp9aEeTz",
        "colab_type": "text"
      },
      "source": [
        "# 2. Mengenal Dataset\n"
      ]
    },
    {
      "cell_type": "code",
      "metadata": {
        "id": "Xyr7n8XaEk63",
        "colab_type": "code",
        "colab": {}
      },
      "source": [
        "dataframe = pd.read_csv('example_data.csv')\n",
        "\n"
      ],
      "execution_count": 0,
      "outputs": []
    },
    {
      "cell_type": "code",
      "metadata": {
        "id": "Q0c5FuVgFMYV",
        "colab_type": "code",
        "colab": {
          "base_uri": "https://localhost:8080/",
          "height": 359
        },
        "outputId": "cbd56f91-0591-4840-eb5f-c38f8f904be9"
      },
      "source": [
        "dataframe.head(10)"
      ],
      "execution_count": 8,
      "outputs": [
        {
          "output_type": "execute_result",
          "data": {
            "text/html": [
              "<div>\n",
              "<style scoped>\n",
              "    .dataframe tbody tr th:only-of-type {\n",
              "        vertical-align: middle;\n",
              "    }\n",
              "\n",
              "    .dataframe tbody tr th {\n",
              "        vertical-align: top;\n",
              "    }\n",
              "\n",
              "    .dataframe thead th {\n",
              "        text-align: right;\n",
              "    }\n",
              "</style>\n",
              "<table border=\"1\" class=\"dataframe\">\n",
              "  <thead>\n",
              "    <tr style=\"text-align: right;\">\n",
              "      <th></th>\n",
              "      <th>x1</th>\n",
              "      <th>x2</th>\n",
              "      <th>y</th>\n",
              "    </tr>\n",
              "  </thead>\n",
              "  <tbody>\n",
              "    <tr>\n",
              "      <th>0</th>\n",
              "      <td>0.78051</td>\n",
              "      <td>-0.063669</td>\n",
              "      <td>1</td>\n",
              "    </tr>\n",
              "    <tr>\n",
              "      <th>1</th>\n",
              "      <td>0.28774</td>\n",
              "      <td>0.291390</td>\n",
              "      <td>1</td>\n",
              "    </tr>\n",
              "    <tr>\n",
              "      <th>2</th>\n",
              "      <td>0.40714</td>\n",
              "      <td>0.178780</td>\n",
              "      <td>1</td>\n",
              "    </tr>\n",
              "    <tr>\n",
              "      <th>3</th>\n",
              "      <td>0.29230</td>\n",
              "      <td>0.421700</td>\n",
              "      <td>1</td>\n",
              "    </tr>\n",
              "    <tr>\n",
              "      <th>4</th>\n",
              "      <td>0.50922</td>\n",
              "      <td>0.352560</td>\n",
              "      <td>1</td>\n",
              "    </tr>\n",
              "    <tr>\n",
              "      <th>5</th>\n",
              "      <td>0.27785</td>\n",
              "      <td>0.108020</td>\n",
              "      <td>1</td>\n",
              "    </tr>\n",
              "    <tr>\n",
              "      <th>6</th>\n",
              "      <td>0.27527</td>\n",
              "      <td>0.332230</td>\n",
              "      <td>1</td>\n",
              "    </tr>\n",
              "    <tr>\n",
              "      <th>7</th>\n",
              "      <td>0.43999</td>\n",
              "      <td>0.312450</td>\n",
              "      <td>1</td>\n",
              "    </tr>\n",
              "    <tr>\n",
              "      <th>8</th>\n",
              "      <td>0.33557</td>\n",
              "      <td>0.429840</td>\n",
              "      <td>1</td>\n",
              "    </tr>\n",
              "    <tr>\n",
              "      <th>9</th>\n",
              "      <td>0.23448</td>\n",
              "      <td>0.249860</td>\n",
              "      <td>1</td>\n",
              "    </tr>\n",
              "  </tbody>\n",
              "</table>\n",
              "</div>"
            ],
            "text/plain": [
              "        x1        x2  y\n",
              "0  0.78051 -0.063669  1\n",
              "1  0.28774  0.291390  1\n",
              "2  0.40714  0.178780  1\n",
              "3  0.29230  0.421700  1\n",
              "4  0.50922  0.352560  1\n",
              "5  0.27785  0.108020  1\n",
              "6  0.27527  0.332230  1\n",
              "7  0.43999  0.312450  1\n",
              "8  0.33557  0.429840  1\n",
              "9  0.23448  0.249860  1"
            ]
          },
          "metadata": {
            "tags": []
          },
          "execution_count": 8
        }
      ]
    },
    {
      "cell_type": "code",
      "metadata": {
        "id": "KFsxJU5hFit2",
        "colab_type": "code",
        "colab": {
          "base_uri": "https://localhost:8080/",
          "height": 296
        },
        "outputId": "186eb537-ca32-4eaa-9546-181c080e5f00"
      },
      "source": [
        "sns.scatterplot(x='x1', y='x2', data=dataframe, hue='y')\n",
        "\n"
      ],
      "execution_count": 12,
      "outputs": [
        {
          "output_type": "execute_result",
          "data": {
            "text/plain": [
              "<matplotlib.axes._subplots.AxesSubplot at 0x7f0f15407710>"
            ]
          },
          "metadata": {
            "tags": []
          },
          "execution_count": 12
        },
        {
          "output_type": "display_data",
          "data": {
            "image/png": "[encoded data removed]",
            "text/plain": [
              "<Figure size 432x288 with 1 Axes>"
            ]
          },
          "metadata": {
            "tags": [],
            "needs_background": "light"
          }
        }
      ]
    },
    {
      "cell_type": "markdown",
      "metadata": {
        "id": "qGyZM7X3Gksl",
        "colab_type": "text"
      },
      "source": [
        ""
      ]
    },
    {
      "cell_type": "markdown",
      "metadata": {
        "id": "14rf4BrKGku1",
        "colab_type": "text"
      },
      "source": [
        "# inisiasi tipe data, konversi data, dll"
      ]
    },
    {
      "cell_type": "code",
      "metadata": {
        "id": "WFhYbCX8Gx0z",
        "colab_type": "code",
        "colab": {}
      },
      "source": [
        "x = np.array(dataframe[['x1','x2']])\n",
        "y = np.array(dataframe['y'])"
      ],
      "execution_count": 0,
      "outputs": []
    },
    {
      "cell_type": "markdown",
      "metadata": {
        "id": "jbljENa5HXuH",
        "colab_type": "text"
      },
      "source": [
        "# 3. Memperisapkan Function\n",
        "\n",
        "1.   Sigmoid Function\n",
        "2.   Prediction (y hat)\n",
        "3.   Error Function (Cross Entropy)\n",
        "4.   Gradient Descent\n",
        "\n"
      ]
    },
    {
      "cell_type": "code",
      "metadata": {
        "id": "HrFEPwmcIiRQ",
        "colab_type": "code",
        "colab": {}
      },
      "source": [
        "def sigmoid(s):\n",
        "  return 1/(1+np.exp(-s))"
      ],
      "execution_count": 0,
      "outputs": []
    },
    {
      "cell_type": "code",
      "metadata": {
        "id": "myuoIuwBJcuh",
        "colab_type": "code",
        "colab": {}
      },
      "source": [
        "def predict(features, weights, bias):\n",
        "  s = np.dot(features, weights)+bias #berapapun dimensinya dengan mudah dihitung dengan metode ini\n",
        "  return sigmoid(s) #hasil dari perhitungan predict akan langsung dihitung ke sigmoid"
      ],
      "execution_count": 0,
      "outputs": []
    },
    {
      "cell_type": "code",
      "metadata": {
        "id": "Y8VTwtnULqpf",
        "colab_type": "code",
        "colab": {}
      },
      "source": [
        "def error_formula(y, prediction): #cross entropy\n",
        " return -y*np.log(prediction) - (1-y)*np.log(1-prediction) #setelah ini baru dikali negative\n"
      ],
      "execution_count": 0,
      "outputs": []
    },
    {
      "cell_type": "code",
      "metadata": {
        "id": "i_fOtv-CN6Vl",
        "colab_type": "code",
        "colab": {
          "base_uri": "https://localhost:8080/",
          "height": 34
        },
        "outputId": "a2267fdb-aaee-4edc-8d18-b2d4c7e8c36a"
      },
      "source": [
        "error_formula(1, 0.7) #e.g apabila nilai prediction semakin mendekati ke label maka nilai error akan semakin kecil"
      ],
      "execution_count": 34,
      "outputs": [
        {
          "output_type": "execute_result",
          "data": {
            "text/plain": [
              "0.35667494393873245"
            ]
          },
          "metadata": {
            "tags": []
          },
          "execution_count": 34
        }
      ]
    },
    {
      "cell_type": "code",
      "metadata": {
        "id": "ZVUuljyZPjH7",
        "colab_type": "code",
        "colab": {}
      },
      "source": [
        "def gradient_descent(x, y, predictions, weights, bias, learningrate):\n",
        "\n",
        "  #menghitung selisih \n",
        "  delta_error = y-predictions\n",
        "\n",
        "  #ada ketidakcocokan dimensi antara delta_error dengan x\n",
        "  #maka delta_error di reshape\n",
        "  delta_error = delta_error.reshape([100,1])\n",
        "\n",
        "  #karena dalam rangka untuk turun dari error yang ada, maka weight dan bias akan terus \n",
        "  #diupdate dengan rasio penurunannya ditentukan seberapa besar/kecil learningratenya\n",
        "  weights = weights + np.sum(learningrate * delta_error * x , axis=0)\n",
        "  bias = bias + np.sum(learningrate*delta_error , axis = 0)\n",
        "  \n",
        "  return weights, bias #mengembalikan nilai weights, bias yang baru"
      ],
      "execution_count": 0,
      "outputs": []
    },
    {
      "cell_type": "markdown",
      "metadata": {
        "id": "24UOd95mSVwx",
        "colab_type": "text"
      },
      "source": [
        "# 4. Implementasi ANN\n",
        "\n",
        "1.   inisialisasi variabel yang dibutuhkan\n",
        "2.   hitung prediction\n",
        "3.   hitung error\n",
        "4.   update weight dan bias (gradient descent)\n",
        "5.   visualisasi hasil\n",
        "6.   ulangi langkah 2-5 hingga eror mengecil \n"
      ]
    },
    {
      "cell_type": "code",
      "metadata": {
        "id": "CJJvMLpuTvJ_",
        "colab_type": "code",
        "colab": {}
      },
      "source": [
        "# inisialisasi variabel\n",
        "weights = np.random.rand(2) #pembangkitan nilai acak pada weight\n",
        "bias = 0\n",
        "\n",
        "learningrate = 0.01\n",
        "\n",
        "#epoch merupakan jumlah iterasi yang digunakan dalam training, \n",
        "#ibaratnya berapa kali dia belajar/ mengulangi proses yang sama\n",
        "epoch = 100 #iterasi"
      ],
      "execution_count": 0,
      "outputs": []
    },
    {
      "cell_type": "code",
      "metadata": {
        "id": "Cm45Ady8UWFn",
        "colab_type": "code",
        "colab": {
          "base_uri": "https://localhost:8080/",
          "height": 1000
        },
        "outputId": "4827effd-e04b-41a4-80c5-da4e217502b7"
      },
      "source": [
        "for i in range(epoch): #perulangan dalam pembelajaran/iterasi\n",
        "\n",
        "  #hitung prediksi\n",
        "  predictions = predict(x,weights, bias)\n",
        "\n",
        "  loss = np.mean(error_formula(y, predictions))\n",
        "  \n",
        "  #dengan nilai weights dan bias yang baru setiap iterasinya (updated value weights & bias)\n",
        "  weights, bias = gradient_descent(x,y,predictions, weights, bias, learningrate) \n",
        "  \n",
        "  #visualisasi \n",
        "  display(-weights[0]/weights[1], -bias/weights[1])\n",
        "\n",
        "  print('epoch = %02d, loss = %.3f' % (i, loss))\n",
        "\n",
        "#visualisasi hasil akhir\n",
        "display(-weights[0]/weights[1], -bias/weights[1])\n",
        "plot_points(x,y)\n",
        "\n"
      ],
      "execution_count": 45,
      "outputs": [
        {
          "output_type": "stream",
          "text": [
            "epoch = 00, loss = 0.212\n",
            "epoch = 01, loss = 0.212\n",
            "epoch = 02, loss = 0.212\n",
            "epoch = 03, loss = 0.211\n",
            "epoch = 04, loss = 0.211\n",
            "epoch = 05, loss = 0.211\n",
            "epoch = 06, loss = 0.211\n",
            "epoch = 07, loss = 0.211\n",
            "epoch = 08, loss = 0.210\n",
            "epoch = 09, loss = 0.210\n",
            "epoch = 10, loss = 0.210\n",
            "epoch = 11, loss = 0.210\n",
            "epoch = 12, loss = 0.209\n",
            "epoch = 13, loss = 0.209\n",
            "epoch = 14, loss = 0.209\n",
            "epoch = 15, loss = 0.209\n",
            "epoch = 16, loss = 0.208\n",
            "epoch = 17, loss = 0.208\n",
            "epoch = 18, loss = 0.208\n",
            "epoch = 19, loss = 0.208\n",
            "epoch = 20, loss = 0.208\n",
            "epoch = 21, loss = 0.207\n",
            "epoch = 22, loss = 0.207\n",
            "epoch = 23, loss = 0.207\n",
            "epoch = 24, loss = 0.207\n",
            "epoch = 25, loss = 0.207\n",
            "epoch = 26, loss = 0.206\n",
            "epoch = 27, loss = 0.206\n",
            "epoch = 28, loss = 0.206\n",
            "epoch = 29, loss = 0.206\n",
            "epoch = 30, loss = 0.206\n",
            "epoch = 31, loss = 0.205\n",
            "epoch = 32, loss = 0.205\n",
            "epoch = 33, loss = 0.205\n",
            "epoch = 34, loss = 0.205\n",
            "epoch = 35, loss = 0.205\n",
            "epoch = 36, loss = 0.204\n",
            "epoch = 37, loss = 0.204\n",
            "epoch = 38, loss = 0.204\n",
            "epoch = 39, loss = 0.204\n",
            "epoch = 40, loss = 0.204\n",
            "epoch = 41, loss = 0.203\n",
            "epoch = 42, loss = 0.203\n",
            "epoch = 43, loss = 0.203\n",
            "epoch = 44, loss = 0.203\n",
            "epoch = 45, loss = 0.203\n",
            "epoch = 46, loss = 0.202\n",
            "epoch = 47, loss = 0.202\n",
            "epoch = 48, loss = 0.202\n",
            "epoch = 49, loss = 0.202\n",
            "epoch = 50, loss = 0.202\n",
            "epoch = 51, loss = 0.201\n",
            "epoch = 52, loss = 0.201\n",
            "epoch = 53, loss = 0.201\n",
            "epoch = 54, loss = 0.201\n",
            "epoch = 55, loss = 0.201\n",
            "epoch = 56, loss = 0.201\n",
            "epoch = 57, loss = 0.200\n",
            "epoch = 58, loss = 0.200\n",
            "epoch = 59, loss = 0.200\n",
            "epoch = 60, loss = 0.200\n",
            "epoch = 61, loss = 0.200\n",
            "epoch = 62, loss = 0.200\n",
            "epoch = 63, loss = 0.199\n",
            "epoch = 64, loss = 0.199\n",
            "epoch = 65, loss = 0.199\n",
            "epoch = 66, loss = 0.199\n",
            "epoch = 67, loss = 0.199\n",
            "epoch = 68, loss = 0.198\n",
            "epoch = 69, loss = 0.198\n",
            "epoch = 70, loss = 0.198\n",
            "epoch = 71, loss = 0.198\n",
            "epoch = 72, loss = 0.198\n",
            "epoch = 73, loss = 0.198\n",
            "epoch = 74, loss = 0.198\n",
            "epoch = 75, loss = 0.197\n",
            "epoch = 76, loss = 0.197\n",
            "epoch = 77, loss = 0.197\n",
            "epoch = 78, loss = 0.197\n",
            "epoch = 79, loss = 0.197\n",
            "epoch = 80, loss = 0.197\n",
            "epoch = 81, loss = 0.196\n",
            "epoch = 82, loss = 0.196\n",
            "epoch = 83, loss = 0.196\n",
            "epoch = 84, loss = 0.196\n",
            "epoch = 85, loss = 0.196\n",
            "epoch = 86, loss = 0.196\n",
            "epoch = 87, loss = 0.195\n",
            "epoch = 88, loss = 0.195\n",
            "epoch = 89, loss = 0.195\n",
            "epoch = 90, loss = 0.195\n",
            "epoch = 91, loss = 0.195\n",
            "epoch = 92, loss = 0.195\n",
            "epoch = 93, loss = 0.195\n",
            "epoch = 94, loss = 0.194\n",
            "epoch = 95, loss = 0.194\n",
            "epoch = 96, loss = 0.194\n",
            "epoch = 97, loss = 0.194\n",
            "epoch = 98, loss = 0.194\n",
            "epoch = 99, loss = 0.194\n"
          ],
          "name": "stdout"
        },
        {
          "output_type": "display_data",
          "data": {
            "image/png": "[encoded data removed]",
            "text/plain": [
              "<Figure size 432x288 with 1 Axes>"
            ]
          },
          "metadata": {
            "tags": [],
            "needs_background": "light"
          }
        }
      ]
    },
    {
      "cell_type": "markdown",
      "metadata": {
        "id": "kyRw5WfOXcVL",
        "colab_type": "text"
      },
      "source": [
        ""
      ]
    },
    {
      "cell_type": "markdown",
      "metadata": {
        "id": "S13XQm-iXcX8",
        "colab_type": "text"
      },
      "source": [
        "#hasil diatas itu sudah epoch yang ke 300 karena saya sudah me-run 3 kali :)"
      ]
    }
  ]
}